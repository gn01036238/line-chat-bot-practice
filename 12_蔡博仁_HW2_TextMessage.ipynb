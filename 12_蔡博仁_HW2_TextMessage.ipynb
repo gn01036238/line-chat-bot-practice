{
 "cells": [
  {
   "cell_type": "code",
   "execution_count": 1,
   "metadata": {},
   "outputs": [],
   "source": [
    "\"\"\"\n",
    "\n",
    "啟用伺服器基本樣板\n",
    "\n",
    "\"\"\"\n",
    "\n",
    "# 引用Web Server套件\n",
    "from flask import Flask, request, abort\n",
    "\n",
    "# 從linebot 套件包裡引用 LineBotApi 與 WebhookHandler 類別\n",
    "from linebot import (\n",
    "    LineBotApi, WebhookHandler\n",
    ")\n",
    "\n",
    "# 引用無效簽章錯誤\n",
    "from linebot.exceptions import (\n",
    "    InvalidSignatureError\n",
    ")\n",
    "\n",
    "# 載入json處理套件\n",
    "import json\n",
    "\n",
    "# 載入基礎設定檔\n",
    "secretFileContentJson=json.load(open(\"./line_secret_key-HW\",'r'))\n",
    "server_url=secretFileContentJson.get(\"server_url\")\n",
    "\n",
    "# 設定Server啟用細節\n",
    "app = Flask(__name__,static_url_path = \"/images-HW\" , static_folder = \"./images-HW\")\n",
    "\n",
    "# 生成實體物件\n",
    "line_bot_api = LineBotApi(secretFileContentJson.get(\"channel_access_token\"))\n",
    "handler = WebhookHandler(secretFileContentJson.get(\"secret_key\"))\n",
    "\n",
    "# 啟動server對外接口，使Line能丟消息進來\n",
    "@app.route(\"/\", methods=['POST'])\n",
    "def callback():\n",
    "    # get X-Line-Signature header value\n",
    "    signature = request.headers['X-Line-Signature']\n",
    "\n",
    "    # get request body as text\n",
    "    body = request.get_data(as_text=True)\n",
    "    app.logger.info(\"Request body: \" + body)\n",
    "\n",
    "    # handle webhook body\n",
    "    try:\n",
    "        handler.handle(body, signature)\n",
    "    except InvalidSignatureError:\n",
    "        abort(400)\n",
    "\n",
    "    return 'OK'\n",
    "@app.route('/cxcxc')\n",
    "def hello():\n",
    "    return \"基隆chatbot大賽等你哦\""
   ]
  },
  {
   "cell_type": "code",
   "execution_count": 2,
   "metadata": {},
   "outputs": [],
   "source": [
    "'''\n",
    "當用戶輸入文字的時候，回應用戶文字消息\n",
    "'''\n",
    "from linebot.models import MessageEvent,TextMessage,TextSendMessage\n",
    "@handler.add(MessageEvent, message = TextMessage)\n",
    "def handle_text_message(event):\n",
    "    line_bot_api.reply_message(\n",
    "        event.reply_token,\n",
    "        TextSendMessage(\"謝謝\")\n",
    "    )"
   ]
  },
  {
   "cell_type": "code",
   "execution_count": 3,
   "metadata": {},
   "outputs": [],
   "source": [
    "'''\n",
    "當用戶傳入圖片的時候，下載圖片，以OPENCV改圖，傳回用戶，存在本地\n",
    "'''\n",
    "import cv2\n",
    "import numpy as np\n",
    "from linebot.models import MessageEvent,TextMessage,TextSendMessage,ImageMessage,ImageSendMessage\n",
    "@handler.add(MessageEvent, message=ImageMessage)\n",
    "def handle_message(event):        \n",
    "    message_content = line_bot_api.get_message_content(event.message.id)\n",
    "    path = './images-HW/'+event.message.id+'.jpg'\n",
    "    with open(path, 'wb') as fd:        \n",
    "        for chunk in message_content.iter_content():\n",
    "            fd.write(chunk)\n",
    "    intense = cv2.imread('./images-HW/Intense_Effect.jpg',-1)\n",
    "    img = cv2.imread(path,-1)\n",
    "    resized_img = cv2.resize(img,(1280,720))\n",
    "    intensified = cv2.add(resized_img,intense)\n",
    "    cv2.imwrite('./images-HW/Intensified_'+event.message.id+'.jpg',intensified,[cv2.IMWRITE_JPEG_QUALITY, 100])\n",
    "    line_bot_api.reply_message(\n",
    "        event.reply_token,\n",
    "        [\n",
    "            TextSendMessage(text='收到圖片啦，我要改圖囉。\\n'+ '圖片ID:' + event.message.id),\n",
    "            ImageSendMessage(\n",
    "                original_content_url='https://%s/images-HW/Intensified_%s.jpg' % (server_url,event.message.id),\n",
    "                preview_image_url='https://%s/images-HW/Intensified_%s.jpg' % (server_url,event.message.id)\n",
    "            )\n",
    "        ]\n",
    "    )"
   ]
  },
  {
   "cell_type": "code",
   "execution_count": 4,
   "metadata": {},
   "outputs": [
    {
     "data": {
      "text/plain": [
       "'https://6abcad0d.ngrok.io/images-HW/Intensified_10502996129263.jpg'"
      ]
     },
     "execution_count": 4,
     "metadata": {},
     "output_type": "execute_result"
    }
   ],
   "source": [
    "event = '10502996129263'\n",
    "original_content_url='https://%s/images-HW/Intensified_%s.jpg' % (server_url,event)\n",
    "original_content_url"
   ]
  },
  {
   "cell_type": "code",
   "execution_count": null,
   "metadata": {},
   "outputs": [
    {
     "name": "stdout",
     "output_type": "stream",
     "text": [
      " * Serving Flask app \"__main__\" (lazy loading)\n",
      " * Environment: production\n",
      "   WARNING: This is a development server. Do not use it in a production deployment.\n",
      "   Use a production WSGI server instead.\n",
      " * Debug mode: off\n"
     ]
    },
    {
     "name": "stderr",
     "output_type": "stream",
     "text": [
      " * Running on http://127.0.0.1:5000/ (Press CTRL+C to quit)\n",
      "127.0.0.1 - - [03/Sep/2019 11:36:27] \"\u001b[33mGET //images-HW/Intensified_10503151710605.jpg HTTP/1.1\u001b[0m\" 404 -\n",
      "127.0.0.1 - - [03/Sep/2019 11:36:29] \"\u001b[33mGET //images-HW/Intensified_10503151710605.jpg HTTP/1.1\u001b[0m\" 404 -\n",
      "127.0.0.1 - - [03/Sep/2019 11:36:29] \"\u001b[37mPOST / HTTP/1.1\u001b[0m\" 200 -\n",
      "127.0.0.1 - - [03/Sep/2019 11:36:30] \"\u001b[37mGET /images-HW/Intensified_10503261029460.jpg HTTP/1.1\u001b[0m\" 200 -\n",
      "127.0.0.1 - - [03/Sep/2019 11:36:31] \"\u001b[37mGET /images-HW/Intensified_10503261029460.jpg HTTP/1.1\u001b[0m\" 200 -\n",
      "127.0.0.1 - - [03/Sep/2019 11:36:31] \"\u001b[37mGET /images-HW/Intensified_10503261029460.jpg HTTP/1.1\u001b[0m\" 200 -\n",
      "127.0.0.1 - - [03/Sep/2019 11:36:37] \"\u001b[37mGET /images-HW/Intensified_10503261029460.jpg HTTP/1.1\u001b[0m\" 200 -\n"
     ]
    }
   ],
   "source": [
    "app.run()"
   ]
  },
  {
   "cell_type": "code",
   "execution_count": null,
   "metadata": {},
   "outputs": [],
   "source": []
  }
 ],
 "metadata": {
  "kernelspec": {
   "display_name": "Python 3",
   "language": "python",
   "name": "python3"
  },
  "language_info": {
   "codemirror_mode": {
    "name": "ipython",
    "version": 3
   },
   "file_extension": ".py",
   "mimetype": "text/x-python",
   "name": "python",
   "nbconvert_exporter": "python",
   "pygments_lexer": "ipython3",
   "version": "3.7.3"
  }
 },
 "nbformat": 4,
 "nbformat_minor": 2
}
